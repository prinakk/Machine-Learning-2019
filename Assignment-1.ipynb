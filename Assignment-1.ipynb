{
  "nbformat": 4,
  "nbformat_minor": 0,
  "metadata": {
    "colab": {
      "name": "Untitled4.ipynb",
      "version": "0.3.2",
      "provenance": [],
      "include_colab_link": true
    },
    "kernelspec": {
      "name": "python3",
      "display_name": "Python 3"
    }
  },
  "cells": [
    {
      "cell_type": "markdown",
      "metadata": {
        "id": "view-in-github",
        "colab_type": "text"
      },
      "source": [
        "<a href=\"https://colab.research.google.com/github/prinakk/Machine-Learning-2019/blob/master/Assignment-1.ipynb\" target=\"_parent\"><img src=\"https://colab.research.google.com/assets/colab-badge.svg\" alt=\"Open In Colab\"/></a>"
      ]
    },
    {
      "cell_type": "markdown",
      "metadata": {
        "id": "6S_lJeNlWwwW",
        "colab_type": "text"
      },
      "source": [
        "# Link to Github"
      ]
    },
    {
      "cell_type": "markdown",
      "metadata": {
        "id": "XBL0unt6Wx6-",
        "colab_type": "text"
      },
      "source": [
        "# TITLE"
      ]
    },
    {
      "cell_type": "markdown",
      "metadata": {
        "id": "ixQM4uRwWyNt",
        "colab_type": "text"
      },
      "source": [
        "# INTRODUCTION"
      ]
    },
    {
      "cell_type": "markdown",
      "metadata": {
        "id": "VckWftbRW1IJ",
        "colab_type": "text"
      },
      "source": [
        "# CONTENT"
      ]
    },
    {
      "cell_type": "markdown",
      "metadata": {
        "id": "4qSMVYQ2W1zQ",
        "colab_type": "text"
      },
      "source": [
        "# INNOVATION"
      ]
    },
    {
      "cell_type": "markdown",
      "metadata": {
        "id": "MbqgWIadXF2h",
        "colab_type": "text"
      },
      "source": [
        "# TECHNICAL QUALITY"
      ]
    },
    {
      "cell_type": "markdown",
      "metadata": {
        "id": "zJoIMFghXHrh",
        "colab_type": "text"
      },
      "source": [
        "# APPLICATION AND X-FACTOR"
      ]
    },
    {
      "cell_type": "markdown",
      "metadata": {
        "id": "hkgd-2ahXJpw",
        "colab_type": "text"
      },
      "source": [
        "# REFERENCES"
      ]
    }
  ]
}